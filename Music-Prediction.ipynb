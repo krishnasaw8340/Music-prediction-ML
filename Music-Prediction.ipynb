{
 "cells": [
  {
   "cell_type": "code",
   "execution_count": 63,
   "id": "f84ab025",
   "metadata": {},
   "outputs": [
    {
     "data": {
      "text/plain": [
       "0.5"
      ]
     },
     "execution_count": 63,
     "metadata": {},
     "output_type": "execute_result"
    }
   ],
   "source": [
    "import pandas as pd\n",
    "from sklearn.tree import DecisionTreeClassifier\n",
    "from sklearn.model_selection import train_test_split\n",
    "from sklearn.metrics import accuracy_score\n",
    "\n",
    "music_data = pd.read_csv('C:/Users/krish/Desktop/Machine Learning/Music Prediction/music.csv/music.csv')\n",
    "music_data\n",
    "\n",
    "inputSet = music_data.drop(columns=['genre'])\n",
    "inputSet\n",
    "\n",
    "outputSet  = music_data['genre']\n",
    "outputSet\n",
    "\n",
    "\n",
    "# Measuring the accuracy:\n",
    "#inputSet_train, inputSet_test, outputSet_train, outputSet_test = train_test_split(inputSet, outputSet, test_size=0.2)\n",
    "\n",
    "\n",
    "# Training the data\n",
    "model = DecisionTreeClassifier()\n",
    "# Training the model\n",
    "model.fit(inputSet, outputSet)\n",
    "\n",
    "# Making Prediction using .predict(which takes 2d array)\n",
    "#predictions= model.predict([[21,1],[22,0]])\n",
    "#predictions\n",
    "\n",
    "model.fit(inputSet_train, outputSet_train)\n",
    "predictions = model.predict(inputSet_test)\n",
    "\n",
    "score = accuracy_score(outputSet_test, predictions)\n",
    "score\n",
    "\n",
    "\n",
    "\n",
    "\n",
    "\n"
   ]
  },
  {
   "cell_type": "code",
   "execution_count": 74,
   "id": "c7db038b",
   "metadata": {},
   "outputs": [
    {
     "name": "stderr",
     "output_type": "stream",
     "text": [
      "C:\\Users\\krish\\anaconda3\\lib\\site-packages\\sklearn\\base.py:450: UserWarning: X does not have valid feature names, but DecisionTreeClassifier was fitted with feature names\n",
      "  warnings.warn(\n"
     ]
    },
    {
     "data": {
      "text/plain": [
       "array(['HipHop'], dtype=object)"
      ]
     },
     "execution_count": 74,
     "metadata": {},
     "output_type": "execute_result"
    }
   ],
   "source": [
    "import pandas as pd\n",
    "from sklearn.tree import DecisionTreeClassifier\n",
    "import joblib\n",
    "\n",
    "\n",
    "# music = pd.read_csv('C:/Users/krish/Desktop/Machine Learning/Music Prediction/music.csv/music.csv')\n",
    "# music\n",
    "\n",
    "# x = music.drop(columns=['genre'])\n",
    "# y  = music['genre']\n",
    "\n",
    "# model = DecisionTreeClassifier()\n",
    "# model.fit(x,y)\n",
    "\n",
    "model = joblib.load('music-recommender.joblib')\n",
    "predictions = model.predict([[21,1]])\n",
    "predictions\n",
    "\n"
   ]
  },
  {
   "cell_type": "code",
   "execution_count": 80,
   "id": "b7a80244",
   "metadata": {},
   "outputs": [],
   "source": [
    "import pandas as np\n",
    "from sklearn.tree import DecisionTreeClassifier\n",
    "from sklearn import tree\n",
    "\n",
    "music = pd.read_csv('C:/Users/krish/Desktop/Machine Learning/Music Prediction/music.csv/music.csv')\n",
    "music\n",
    "\n",
    "x_input = music.drop(columns=['genre'])\n",
    "y_output = music['genre']\n",
    "model = DecisionTreeClassifier()\n",
    "#Train the model\n",
    "model.fit(x_input, y_output)\n",
    "\n",
    "\n",
    "#Visualizing Decison tree\n",
    "tree.export_graphviz(model, out_file='music-recommender.dot',\n",
    "                   feature_names = ['age','gender'],\n",
    "                   class_names = sorted(y.unique()),\n",
    "                    label = 'all',\n",
    "                    rounded = True,\n",
    "                    filled = True)\n"
   ]
  },
  {
   "cell_type": "code",
   "execution_count": null,
   "id": "72426677",
   "metadata": {},
   "outputs": [],
   "source": []
  }
 ],
 "metadata": {
  "kernelspec": {
   "display_name": "Python 3 (ipykernel)",
   "language": "python",
   "name": "python3"
  },
  "language_info": {
   "codemirror_mode": {
    "name": "ipython",
    "version": 3
   },
   "file_extension": ".py",
   "mimetype": "text/x-python",
   "name": "python",
   "nbconvert_exporter": "python",
   "pygments_lexer": "ipython3",
   "version": "3.9.13"
  }
 },
 "nbformat": 4,
 "nbformat_minor": 5
}
